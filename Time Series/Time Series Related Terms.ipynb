{
 "cells": [
  {
   "cell_type": "markdown",
   "metadata": {},
   "source": [
    "# I. Trend\n",
    "\n",
    "* Model long-term changes with moving averages and the time dummy"
   ]
  },
  {
   "cell_type": "markdown",
   "metadata": {},
   "source": [
    "## 1. What is **Trend**?\n",
    "\n",
    "The trend component of a time series represents a persistent, long-term change in the **mean** of the series. \n",
    "\n",
    "The trend is the slowest-moving part of a series, the part representing the largest time scale of importance. \n",
    "\n",
    "In a time series of product sales, an increasing trend might be the effect of a **market expansion** as more people become aware of the product year by year.\n",
    "\n",
    "In this course, we'll focus on **trends in the mean**. More generally though, any persistent and slow-moving change in a series could constitute a trend -- time series commonly have trends in their variation for instance.\n",
    "\n",
    "## 2. Moving Average Plots\n",
    "\n",
    "To see what kind of trend a time series might have, we can use a **moving average** plot. \n",
    "\n",
    "To compute a moving average of a time series, we compute the average of the values within **a sliding window of some defined width**. Each point on the graph represents the average of all the values in the series that fall within the window on either side. \n",
    "\n",
    "The idea is to smooth out any short-term fluctuations in the series so that only **long-term** changes remain.\n",
    "\n",
    "To visualize a trend, we take an average over a period longer than any **seasonal** period in the series.\n",
    "\n",
    "## 3. Engineering Trend\n",
    "\n",
    "Once we've identified the shape of the trend, we can attempt to model it using a **time-step feature**. We've already seen how using the time dummy itself will model a linear trend:\n",
    "\n",
    "> target = a * time + b\n",
    "\n",
    "We can fit many other kinds of trend through **transformations** of the time dummy. If the trend appears to be quadratic (a parabola), we just need to add the square of the time dummy to the feature set, giving us:\n",
    "\n",
    "> target = a * time ** 2 + b * time + c\n",
    "\n",
    "Linear regression will learn the coefficients a, b, and c.\n",
    "\n",
    "Note that linear regression can fit curves other than lines. The idea is that if you can provide curves of the appropriate shape as features, then linear regression can learn how to combine them in the way that best fits the target."
   ]
  },
  {
   "cell_type": "markdown",
   "metadata": {},
   "source": [
    "# II. Seasonality\n",
    "\n",
    "* Create indicators and Fourier features to capture periodic change"
   ]
  },
  {
   "cell_type": "markdown",
   "metadata": {},
   "source": [
    "## 1. What is Seasonality?\n",
    "\n",
    "We say that a time series exhibits **seasonality** whenever there is a regular, periodic change in the **mean** of the series. \n",
    "\n",
    "Seasonal changes generally follow the clock and calendar -- repetitions over a day, a week, or a year are common. \n",
    "\n",
    "Seasonality is often driven by the **cycles** of the natural world over days and years or by conventions of social behavior surrounding dates and times.\n",
    "\n",
    "For example, electricity demand, temperature of a city (like Seattle), Lyft rides in NYC, Dutch retail sales.\n",
    "\n",
    "We will learn two kinds of features that model seasonality. The first kind, **indicators**, is best for a season with few observations, like a weekly season of daily observations. The second kind, **Fourier features**, is best for a season with many observations, like an annual season of daily observations.\n",
    "\n",
    "## 2. Seasonal Plots and Seasonal Indicators\n",
    "\n",
    "Just like we used a moving average plot to discover the trend in a series, we can use a **seasonal plot** to discover seasonal patterns.\n",
    "\n",
    "A seasonal plot shows segments of the time series plotted **against some common period**, the period being the \"season\" you want to observe. \n",
    "\n",
    "### (1) Seasonal indicators\n",
    "\n",
    "Seasonal indicators are **binary** features that represent seasonal differences in the level of a time series. Seasonal indicators are what you get if you treat a seasonal period as a **categorical** feature and apply **one-hot encoding**.\n",
    "\n",
    "By one-hot encoding days of the week, we get **weekly** seasonal indicators. Creating weekly indicators for the data series will then give us **six new \"dummy\" features**. (Linear regression works best if you drop one of the indicators; we chose Monday in the frame below.)\n",
    "\n",
    "Adding seasonal indicators to the training data helps models **distinguish** means within a seasonal period -- meaning: you can clearly see that the data aligns with the seasonal trend. \n",
    "\n",
    "The indicators act as **On / Off switches**. At any time, at most one of these indicators can have a value of 1 (On). \n",
    "\n",
    "For this model, linear regression learns a baseline value 2379 for Mon and then adjusts by the value of whichever indicator is On for that day; the rest are 0 and vanish.\n",
    "\n",
    "### (2). Fourier Features and the Periodogram\n",
    "\n",
    "The kind of feature we discuss now are better suited for **long seasons over many observations** where indicators would be impractical. Instead of creating a feature for each date, **Fourier features** try to capture the **overall shape** of the seasonal curve with just a few features.\n",
    "\n",
    "It is these **frequencies within a season** that we attempt to capture with Fourier features. The idea is to include in our training data periodic curves having the same frequencies as the season we are trying to model. The curves we use are those of **the trigonometric functions sine and cosine**.\n",
    "\n",
    "Fourier features are **pairs** of sine and cosine curves, one pair for each potential frequency in the season starting with the longest. Fourier pairs modeling annual seasonality would have frequencies: once per year, twice per year, three times per year, and so on.\n",
    "\n",
    "If we add a set of these sine / cosine curves to our training data, the linear regression algorithm will figure out the **weights** that will fit the seasonal component in the target series. \n",
    "\n",
    "For example, linear regression can use four Fourier pairs (in total 8 features, aka four sine / cosine pairs) to model the annual seasonality in the training data series.\n",
    "\n",
    "Notice that we only needed eight features to get a good estimate of the annual seasonality, compared with the seasonal indicator method which would have required hundreds of features (one for each day of the year). \n",
    "\n",
    "By modeling only the \"main effect\" of the seasonality with Fourier features, you'll usually need to **add far fewer features** to your training data, which means reduced computation time and less risk of overfitting.\n",
    "\n",
    "#### Choosing Fourier features with the Periodogram\n",
    "\n",
    "How many Fourier pairs should we actually include in our feature set? We can answer this question with the **periodogram**.\n",
    "\n",
    "The periodogram tells you the **strength of the frequencies** in a time series. Specifically, the value on the y-axis of the graph is `(a ** 2 + b ** 2) / 2`, where a and b are the coefficients of the sine and cosine at that frequency.\n",
    "\n",
    "From left to right, the periodogram **drops off** after Quarterly, **four** times a year. That was why we chose **four** Fourier pairs to model the annual season. The Weekly frequency we ignore since it's better modeled with indicators."
   ]
  },
  {
   "cell_type": "markdown",
   "metadata": {},
   "source": [
    "#### Computing Fourier features (optional)\n",
    "\n",
    "Knowing how Fourier features are computed isn't essential to using them, but if seeing the details would clarify things, the cell below illustrates how a set of Fourier features could be derived from the index of a time series. (We'll use a library function from statsmodels for our applications, however.)"
   ]
  },
  {
   "cell_type": "code",
   "execution_count": 1,
   "metadata": {},
   "outputs": [],
   "source": [
    "import numpy as np\n",
    "\n",
    "\n",
    "def fourier_features(index, freq, order):\n",
    "    time = np.arange(len(index), dtype=np.float32)\n",
    "    k = 2 * np.pi * (1 / freq) * time\n",
    "    features = {}\n",
    "    for i in range(1, order + 1):\n",
    "        features.update({\n",
    "            f\"sin_{freq}_{i}\": np.sin(i * k),\n",
    "            f\"cos_{freq}_{i}\": np.cos(i * k),\n",
    "        })\n",
    "    return pd.DataFrame(features, index=index)\n",
    "\n",
    "\n",
    "# Compute Fourier features to the 4th order (8 new features) for a\n",
    "# series y with daily observations and annual seasonality:\n",
    "#\n",
    "# fourier_features(y, freq=365.25, order=4)"
   ]
  },
  {
   "cell_type": "markdown",
   "metadata": {},
   "source": [
    "## III. Serial Dependence (Time Series as Features)\n",
    "\n",
    "### 1. What is Serial Dependence?\n",
    "\n",
    "Previously, we investigated properties of time series that were most easily modeled as **time dependent properties**, that is, with features we could derive directly from the time index. \n",
    "\n",
    "Some time series properties, however, can only be modeled as **serially dependent properties**, that is, using as features past values of the target series. \n",
    "\n",
    "The structure of these time series may not be apparent from a plot over time; **plotted against past values**, however, the structure becomes clear.\n",
    "\n",
    "With trend and seasonality, we trained models to fit curves to plots like those where the models were learning time dependence. The goal in this lesson is to train models to fit curves to plots like those where we want them to learn **serial dependence**.\n",
    "\n",
    "#### Cycles\n",
    "\n",
    "One especially common way for serial dependence to manifest is in **cycles**. \n",
    "\n",
    "Cycles are **patterns of growth and decay** in a time series associated with how the value in a series at one time depends on values at previous times, but **not necessarily on the time step itself**. \n",
    "\n",
    "Cyclic behavior is characteristic of systems that can affect themselves or whose reactions persist over time. \n",
    "\n",
    "Economies, epidemics, animal populations, volcano eruptions, and similar natural phenomena often display cyclic behavior.\n",
    "\n",
    "To be more specific, US employment goes up and down -- it is in cycles. \n",
    "\n",
    "What distinguishes **cyclic** behavior from **seasonality** is that cycles are not necessarily time dependent, as seasons are. What happens in a cycle is less about the particular date of occurence, and more about **what has happened in the recent past**. The (at least relative) independence from time means that cyclic behavior can be much more **irregular** than seasonality.\n",
    "\n",
    "### 2. Lagged Series and Lag Plots\n",
    "\n",
    "To investigate possible serial dependence (like cycles) in a time series, we need to create **\"lagged\" copies** of the series. \n",
    "\n",
    "Lagging a time series means to shift its values **forward** one or more time steps, or equivalently, to shift the times in its index **backward** one or more steps. In either case, the effect is that the observations in the lagged series will appear to have happened later in time.\n",
    "\n",
    "This shows the monthly unemployment rate in the US (y) together with its first and second lagged series (y_lag_1 and y_lag_2, respectively). Notice how the values of the lagged series are **shifted forward** in time."
   ]
  },
  {
   "cell_type": "code",
   "execution_count": 1,
   "metadata": {},
   "outputs": [],
   "source": [
    "import pandas as pd\n",
    "\n",
    "# Federal Reserve dataset: https://www.kaggle.com/federalreserve/interest-rates\n",
    "reserve = pd.read_csv(\n",
    "    \"reserve.csv\",\n",
    "    parse_dates={'Date': ['Year', 'Month', 'Day']},\n",
    "    index_col='Date',\n",
    ")"
   ]
  },
  {
   "cell_type": "code",
   "execution_count": 2,
   "metadata": {},
   "outputs": [
    {
     "data": {
      "text/html": [
       "<div>\n",
       "<style scoped>\n",
       "    .dataframe tbody tr th:only-of-type {\n",
       "        vertical-align: middle;\n",
       "    }\n",
       "\n",
       "    .dataframe tbody tr th {\n",
       "        vertical-align: top;\n",
       "    }\n",
       "\n",
       "    .dataframe thead th {\n",
       "        text-align: right;\n",
       "    }\n",
       "</style>\n",
       "<table border=\"1\" class=\"dataframe\">\n",
       "  <thead>\n",
       "    <tr style=\"text-align: right;\">\n",
       "      <th></th>\n",
       "      <th>y</th>\n",
       "      <th>y_lag_1</th>\n",
       "      <th>y_lag_2</th>\n",
       "    </tr>\n",
       "    <tr>\n",
       "      <th>Date</th>\n",
       "      <th></th>\n",
       "      <th></th>\n",
       "      <th></th>\n",
       "    </tr>\n",
       "  </thead>\n",
       "  <tbody>\n",
       "    <tr>\n",
       "      <th>1954-07</th>\n",
       "      <td>5.8</td>\n",
       "      <td>NaN</td>\n",
       "      <td>NaN</td>\n",
       "    </tr>\n",
       "    <tr>\n",
       "      <th>1954-08</th>\n",
       "      <td>6.0</td>\n",
       "      <td>5.8</td>\n",
       "      <td>NaN</td>\n",
       "    </tr>\n",
       "    <tr>\n",
       "      <th>1954-09</th>\n",
       "      <td>6.1</td>\n",
       "      <td>6.0</td>\n",
       "      <td>5.8</td>\n",
       "    </tr>\n",
       "    <tr>\n",
       "      <th>1954-10</th>\n",
       "      <td>5.7</td>\n",
       "      <td>6.1</td>\n",
       "      <td>6.0</td>\n",
       "    </tr>\n",
       "    <tr>\n",
       "      <th>1954-11</th>\n",
       "      <td>5.3</td>\n",
       "      <td>5.7</td>\n",
       "      <td>6.1</td>\n",
       "    </tr>\n",
       "  </tbody>\n",
       "</table>\n",
       "</div>"
      ],
      "text/plain": [
       "           y  y_lag_1  y_lag_2\n",
       "Date                          \n",
       "1954-07  5.8      NaN      NaN\n",
       "1954-08  6.0      5.8      NaN\n",
       "1954-09  6.1      6.0      5.8\n",
       "1954-10  5.7      6.1      6.0\n",
       "1954-11  5.3      5.7      6.1"
      ]
     },
     "execution_count": 2,
     "metadata": {},
     "output_type": "execute_result"
    }
   ],
   "source": [
    "y = reserve.loc[:, 'Unemployment Rate'].dropna().to_period('M')\n",
    "df = pd.DataFrame({\n",
    "    'y': y,\n",
    "    'y_lag_1': y.shift(1),\n",
    "    'y_lag_2': y.shift(2),    \n",
    "})\n",
    "\n",
    "df.head()"
   ]
  },
  {
   "cell_type": "markdown",
   "metadata": {},
   "source": [
    "By lagging a time series, we can make its past values appear **contemporaneous** with the values we are trying to predict (in the same row, in other words). This makes lagged series useful as **features** for modeling serial dependence. \n",
    "\n",
    "To forecast the US unemployment rate series, we could use `y_lag_1` and `y_lag_2` as features to predict the target `y`. This would forecast the future unemployment rate as a function of the unemployment rate in the prior two months.\n",
    "\n",
    "### Lag plots\n",
    "\n",
    "A lag plot of a time series shows its values **plotted against its lags**. Serial dependence in a time series will often become apparent by looking at a lag plot. \n",
    "\n",
    "We can see from this lag plot of US Unemployment that there is a strong and apparently **linear** relationship between the current unemployment rate and past rates."
   ]
  },
  {
   "cell_type": "code",
   "execution_count": 3,
   "metadata": {},
   "outputs": [],
   "source": [
    "import matplotlib.pyplot as plt\n",
    "from sklearn.linear_model import LinearRegression"
   ]
  },
  {
   "cell_type": "code",
   "execution_count": 4,
   "metadata": {},
   "outputs": [],
   "source": [
    "# Train the model\n",
    "X = df.loc[:, ['y_lag_1']]\n",
    "X.dropna(inplace=True)  # drop missing values in the feature set\n",
    "y = df.loc[:, 'y']\n",
    "y, X = y.align(X, join='inner')  # drop corresponding values in target\n",
    "\n",
    "model = LinearRegression()\n",
    "model.fit(X, y)\n",
    "\n",
    "# Store the fitted values as a time series with the same time index as\n",
    "# the training data\n",
    "y_pred = pd.Series(model.predict(X), index=X.index)"
   ]
  },
  {
   "cell_type": "code",
   "execution_count": 23,
   "metadata": {},
   "outputs": [
    {
     "data": {
      "text/plain": [
       "array([0.99316623])"
      ]
     },
     "execution_count": 23,
     "metadata": {},
     "output_type": "execute_result"
    }
   ],
   "source": [
    "model.coef_"
   ]
  },
  {
   "cell_type": "code",
   "execution_count": 25,
   "metadata": {},
   "outputs": [
    {
     "data": {
      "text/plain": [
       "0.99"
      ]
     },
     "execution_count": 25,
     "metadata": {},
     "output_type": "execute_result"
    }
   ],
   "source": [
    "round(model.coef_[0], 2)"
   ]
  },
  {
   "cell_type": "code",
   "execution_count": 37,
   "metadata": {},
   "outputs": [
    {
     "data": {
      "text/plain": [
       "('0.9931662281273951', '0.9931662281273951', '0.993166')"
      ]
     },
     "execution_count": 37,
     "metadata": {},
     "output_type": "execute_result"
    }
   ],
   "source": [
    "\"%s\" % model.coef_[0], str(model.coef_[0]), '{0:f}'.format(model.coef_[0])"
   ]
  },
  {
   "cell_type": "code",
   "execution_count": 35,
   "metadata": {
    "scrolled": true
   },
   "outputs": [
    {
     "data": {
      "image/png": "[encoded data removed]",
      "text/plain": [
       "<Figure size 432x288 with 1 Axes>"
      ]
     },
     "metadata": {
      "needs_background": "light"
     },
     "output_type": "display_data"
    }
   ],
   "source": [
    "# plot against lag_1\n",
    "fig, ax = plt.subplots()\n",
    "ax.plot(X, y, '.', color='0.25')\n",
    "ax.plot(X, y_pred)\n",
    "ax.set_aspect('equal')\n",
    "ax.set_ylabel('Unemployment Rate')\n",
    "ax.set_xlabel('Lag_1')\n",
    "ax.set_title('Lag 1 Plot of Unemployment Rate')\n",
    "ax.legend(\"%s\" % model.coef_[0], loc=\"upper left\");"
   ]
  },
  {
   "cell_type": "code",
   "execution_count": 38,
   "metadata": {},
   "outputs": [
    {
     "data": {
      "image/png": "[encoded data removed]",
      "text/plain": [
       "<Figure size 432x288 with 1 Axes>"
      ]
     },
     "metadata": {
      "needs_background": "light"
     },
     "output_type": "display_data"
    }
   ],
   "source": [
    "# Train the model\n",
    "X = df.loc[:, ['y_lag_2']]\n",
    "X.dropna(inplace=True)  # drop missing values in the feature set\n",
    "y = df.loc[:, 'y']\n",
    "y, X = y.align(X, join='inner')  # drop corresponding values in target\n",
    "\n",
    "model_2 = LinearRegression()\n",
    "model_2.fit(X, y)\n",
    "\n",
    "# Store the fitted values as a time series with the same time index as\n",
    "# the training data\n",
    "y_pred = pd.Series(model_2.predict(X), index=X.index)\n",
    "\n",
    "# plot against lag_2\n",
    "fig, ax = plt.subplots()\n",
    "ax.plot(X, y, '.', color='0.25')\n",
    "ax.plot(X, y_pred)\n",
    "ax.set_aspect('equal')\n",
    "ax.set_ylabel('Unemployment Rate')\n",
    "ax.set_xlabel('Lag_2')\n",
    "ax.set_title('Lag 2 Plot of Unemployment Rate')\n",
    "ax.legend(\"%s\" % model_2.coef_[0], loc=\"upper left\");"
   ]
  },
  {
   "cell_type": "code",
   "execution_count": 39,
   "metadata": {},
   "outputs": [
    {
     "data": {
      "text/plain": [
       "0.9840272898663868"
      ]
     },
     "execution_count": 39,
     "metadata": {},
     "output_type": "execute_result"
    }
   ],
   "source": [
    "model_2.coef_[0]"
   ]
  },
  {
   "cell_type": "markdown",
   "metadata": {},
   "source": [
    "The most commonly used measure of serial dependence is known as **autocorrelation**, which is simply the correlation a time series has with one of its lags. US Unemployment has an autocorrelation of 0.99 at lag 1, 0.98 at lag 2, and so on.\n",
    "\n",
    "### Choosing lags\n",
    "\n",
    "When choosing lags to use as features, it generally won't be useful to include every lag with a large autocorrelation. In US Unemployment, for instance, the autocorrelation at lag 2 might result entirely from \"decayed\" information from lag 1 -- just correlation that's carried over from the previous step. If lag 2 doesn't contain anything **new**, there would be no reason to include it if we already have lag 1.\n",
    "\n",
    "The **partial autocorrelation** tells you the correlation of a lag accounting for all of the **previous lags** -- the amount of \"new\" correlation the lag contributes, so to speak. Plotting the partial autocorrelation can help you choose **which lag features to use**. \n",
    "\n",
    "In the figure below, lag 1 through lag 6 fall outside the intervals of \"no correlation\" (in blue), so we might choose lags 1 through lag 6 as features for US Unemployment. (Lag 11 is likely a false positive.)"
   ]
  },
  {
   "cell_type": "code",
   "execution_count": 4,
   "metadata": {},
   "outputs": [
    {
     "data": {
      "text/plain": [
       "Date\n",
       "1954-07    5.8\n",
       "1954-08    6.0\n",
       "1954-09    6.1\n",
       "1954-10    5.7\n",
       "1954-11    5.3\n",
       "Freq: M, Name: Unemployment Rate, dtype: float64"
      ]
     },
     "execution_count": 4,
     "metadata": {},
     "output_type": "execute_result"
    }
   ],
   "source": [
    "y.head()"
   ]
  },
  {
   "cell_type": "code",
   "execution_count": 5,
   "metadata": {},
   "outputs": [],
   "source": [
    "df_y = pd.DataFrame({\n",
    "    'y': y\n",
    "})"
   ]
  },
  {
   "cell_type": "code",
   "execution_count": 6,
   "metadata": {},
   "outputs": [
    {
     "data": {
      "text/plain": [
       "'1.21.6'"
      ]
     },
     "execution_count": 6,
     "metadata": {},
     "output_type": "execute_result"
    }
   ],
   "source": [
    "import numpy as np\n",
    "\n",
    "np.__version__"
   ]
  },
  {
   "cell_type": "code",
   "execution_count": 7,
   "metadata": {},
   "outputs": [
    {
     "data": {
      "text/plain": [
       "'0.13.2'"
      ]
     },
     "execution_count": 7,
     "metadata": {},
     "output_type": "execute_result"
    }
   ],
   "source": [
    "import statsmodels\n",
    "statsmodels.__version__"
   ]
  },
  {
   "cell_type": "code",
   "execution_count": 15,
   "metadata": {},
   "outputs": [],
   "source": [
    "from statsmodels.graphics.tsaplots import plot_pacf\n",
    "import matplotlib.pyplot as plt"
   ]
  },
  {
   "cell_type": "code",
   "execution_count": 12,
   "metadata": {},
   "outputs": [],
   "source": [
    "plot_pacf?"
   ]
  },
  {
   "cell_type": "code",
   "execution_count": 16,
   "metadata": {},
   "outputs": [
    {
     "data": {
      "image/png": "[encoded data removed]",
      "text/plain": [
       "<Figure size 432x288 with 1 Axes>"
      ]
     },
     "metadata": {
      "needs_background": "light"
     },
     "output_type": "display_data"
    }
   ],
   "source": [
    "plot_pacf(df_y, lags = 12, method = 'ywm')\n",
    "plt.show();"
   ]
  },
  {
   "cell_type": "markdown",
   "metadata": {},
   "source": [
    "Partial autocorrelations of US Unemployment through lag 12 with 95% confidence intervals of no correlation"
   ]
  },
  {
   "cell_type": "markdown",
   "metadata": {},
   "source": [
    "A plot like that above is known as a **correlogram**. The correlogram is for lag features essentially what the periodogram is for Fourier features.\n",
    "\n",
    "Finally, we need to be mindful that autocorrelation and partial autocorrelation are measures of **linear** dependence. Because real-world time series often have substantial non-linear dependences, it's best to look at a lag plot (or use some more general measure of dependence, like **mutual information**) when choosing lag features. The Sunspots series has lags with non-linear dependence which we might overlook with autocorrelation.\n",
    "\n",
    "Non-linear relationships like these can either be transformed to be linear or else learned by an appropriate algorithm."
   ]
  },
  {
   "cell_type": "markdown",
   "metadata": {},
   "source": [
    "## IV. Hybrid Models\n",
    "\n",
    "combine the strengths of two forecasters with this powerful technique\n",
    "\n",
    "### 1. Introduction\n",
    "\n",
    "Linear regression excels at extrapolating trends, but can't learn interactions. **XGBoost** excels at learning interactions, but can't extrapolate trends. In this lesson, we'll learn how to create **\"hybrid\" forecasters** that combine complementary learning algorithms and let the strengths of one make up for the weakness of the other.\n",
    "\n",
    "### 2. Components and Residuals\n",
    "\n",
    "So that we can design effective hybrids, we need a better understanding of **how time series are constructed**. We've studied up to now three patterns of **dependence**: `trend`, `seasons`, and `cycles`. Many time series can be closely described by an additive model of just these three components plus some essentially unpredictable, entirely random error:\n",
    "\n",
    "`series = trend + seasons + cycles + error`\n",
    "\n",
    "Each of the terms in this model we would then call a **component** of the time series.\n",
    "\n",
    "The residuals of a model are the difference between the target the model was trained on and the predictions the model makes -- the difference between the actual curve and the fitted curve, in other words. Plot the residuals against a feature, and you get the **\"left over\"** part of the target, or what the model failed to learn about the target from that feature.\n",
    "\n",
    "We could imagine learning the components of a time series as an iterative process: first learn the **trend** and subtract it out from the series, then learn the **seasonality** from the detrended residuals and subtract the seasons out, then learn the **cycles** and subtract the cycles out, and finally only the unpredictable error remains.\n",
    "\n",
    "Add together all the components we learned and we get the complete model. This is essentially what linear regression would do if you trained it on a complete set of features modeling trend, seasons, and cycles.\n",
    "\n",
    "### 3. Hybrid Forecasting with Residuals\n",
    "Previously, we used a single algorithm (linear regression) to learn all the components at once. But it's also possible to use one algorithm for some of the components and another algorithm for the rest. This way we can always choose the best algorithm for each component. To do this, we use one algorithm to fit the **original** series and then the second algorithm to fit the **residual** series.\n",
    "\n",
    "> In detail, the process is this:\n",
    "\n",
    "> # 1. Train and predict with first model\n",
    "model_1.fit(X_train_1, y_train)\n",
    "y_pred_1 = model_1.predict(X_train)\n",
    "\n",
    "> # 2. Train and predict with second model on residuals\n",
    "model_2.fit(X_train_2, y_train - y_pred_1)\n",
    "y_pred_2 = model_2.predict(X_train_2)\n",
    "\n",
    "> # 3. Add to get overall predictions\n",
    "y_pred = y_pred_1 + y_pred_2\n",
    "\n",
    "We'll usually want to use different feature sets (X_train_1 and X_train_2 above) depending on what we want each model to learn. If we use the first model to learn the trend, we generally wouldn't need a trend feature for the second model, for example.\n",
    "\n",
    "While it's possible to use more than two models, in practice it doesn't seem to be especially helpful. In fact, the most common strategy for constructing hybrids is the one we've just described: a **simple (usually linear)** learning algorithm followed by a **complex, non-linear learner like GBDTs** or a **deep neural net**, the simple model typically designed as a \"helper\" for the powerful algorithm that follows.\n",
    "\n",
    "### 4. Designing Hybrids\n",
    "\n",
    "There are many ways you could combine machine learning models besides the way we've outlined. Successfully combining models, though, requires that we dig a bit deeper into how these algorithms operate.\n",
    "\n",
    "There are generally **two ways** a regression algorithm can make predictions: either by transforming the `features` or by transforming the `target`. Feature-transforming algorithms learn some mathematical function that takes features as an input and then combines and transforms them to produce an output that matches the target values in the training set. **Linear regression** and **neural nets** are of this kind.\n",
    "\n",
    "Target-transforming algorithms use the features to group the target values in the training set and make predictions by averaging values in a group; a set of feature just indicates which group to average. **Decision trees** and **nearest neighbors** are of this kind.\n",
    "\n",
    "The important thing is this: feature transformers generally can **extrapolate** target values beyond the training set given appropriate features as inputs, but the predictions of target transformers will always be bound within the range of the training set. If the time dummy continues counting time steps, linear regression continues drawing the trend line. Given the same time dummy, a decision tree will predict the trend indicated by the last step of the training data into the future forever. **Decision trees cannot extrapolate trends.** Random forests and gradient boosted decision trees (like XGBoost) are ensembles of decision trees, so they also cannot extrapolate trends.\n",
    "\n",
    "This difference is what motivates the hybrid design in this lesson: **use linear regression to extrapolate the trend, transform the target to remove the trend, and apply XGBoost to the detrended residuals**. To hybridize a neural net (a feature transformer), you could instead include the predictions of another model as a feature, which the neural net would then include as part of its own predictions. The method of fitting to residuals is actually the same method the gradient boosting algorithm uses, so we will call these **boosted** hybrids; the method of using predictions as features is known as **\"stacking\"**, so we will call these **stacked** hybrids.\n",
    "\n",
    "> Winning Hybrids from Kaggle Competitions\n",
    "For inspiration, here are a few top scoring solutions from past competitions:\n",
    "> * STL boosted with exponential smoothing - Walmart Recruiting - Store Sales Forecasting\n",
    "https://www.kaggle.com/c/walmart-recruiting-store-sales-forecasting/discussion/8125\n",
    "> * ARIMA and exponential smoothing boosted with GBDT - Rossmann Store Sales\n",
    "https://www.kaggle.com/c/rossmann-store-sales/discussion/17896\n",
    "> * An ensemble of stacked and boosted hybrids - Web Traffic Time Series Forecasting\n",
    "https://www.kaggle.com/c/web-traffic-time-series-forecasting/discussion/39395\n",
    "> * Exponential smoothing stacked with LSTM neural net - M4 (non-Kaggle)\n",
    "https://github.com/Mcompetitions/M4-methods/blob/slaweks_ES-RNN/118%20-%20slaweks17/ES_RNN_SlawekSmyl.pdf"
   ]
  },
  {
   "cell_type": "markdown",
   "metadata": {},
   "source": [
    "## V. Forecasting With Machine Learning\n",
    "\n",
    "Apply ML to any forecasting task with these four strategies.\n",
    "\n",
    "### 1. Introduction\n",
    "\n",
    "Previously, we treated forecasting as a simple regression problem with all of our features derived from a single input, the **time index**. We could easily create forecasts for any time in the future by just generating our desired trend and seasonal features.\n",
    "\n",
    "When we added lag features, however, the nature of the problem changed. Lag features require that the lagged target value is known at the time being forecast. A lag 1 feature shifts the time series forward 1 step, which means you could forecast 1 step into the future but not 2 steps.\n",
    "\n",
    "Previously, we just assumed that we could always generate lags up to the period we wanted to forecast (every prediction was for just one step forward, in other words). Real-world forecasting typically demands more than this, so in this lesson we'll learn how to make forecasts for a variety of situations.\n",
    "\n",
    "### 2. Defining the Forecasting Task\n",
    "\n",
    "There are two things to establish before designing a forecasting model:\n",
    "\n",
    "* what information is available at the time a forecast is made (features), and,\n",
    "* the time period during which you require forecasted values (target).\n",
    "\n",
    "The **forecast origin** is time at which you are making a forecast. Practically, you might consider the forecast origin to be the last time for which you have training data for the time being predicted. Everything up to the origin can be used to create features.\n",
    "\n",
    "The **forecast horizon** is the time for which you are making a forecast. We often describe a forecast by the number of time steps in its horizon: a \"1-step\" forecast or \"5-step\" forecast, say. The forecast horizon describes the target.\n",
    "\n",
    "The time between the origin and the horizon is the **lead time** (or sometimes **latency**) of the forecast. A forecast's lead time is described by the number of steps from origin to horizon: a \"1-step ahead\" or \"3-step ahead\" forecast, say. In practice, it may be necessary for a forecast to begin multiple steps ahead of the origin because of delays in data acquisition or processing.\n",
    "\n",
    "### 3. Preparing Data for Forecasting\n",
    "\n",
    "In order to forecast time series with ML algorithms, we need to transform the series into a dataframe we can use with those algorithms. (Unless, of course, you are only using deterministic features like trend and seasonality.)\n",
    "\n",
    "We saw the first half of this process previously when we created a feature set out of lags. The second half is preparing the target. How we do this depends on the forecasting task.\n",
    "\n",
    "Each row in a dataframe represents a single forecast. The time index of the row is the first time in the forecast horizon, but we arrange values for the entire horizon in the same row. For multistep forecasts, this means we are requiring a model to produce multiple outputs, one for each step."
   ]
  },
  {
   "cell_type": "code",
   "execution_count": 1,
   "metadata": {},
   "outputs": [
    {
     "data": {
      "text/html": [
       "<style  type=\"text/css\" >\n",
       "#T_3ae2256e_f5bc_11ed_b57e_44af2820dc43row0_col0,#T_3ae2256e_f5bc_11ed_b57e_44af2820dc43row0_col1,#T_3ae2256e_f5bc_11ed_b57e_44af2820dc43row0_col2,#T_3ae2256e_f5bc_11ed_b57e_44af2820dc43row1_col0,#T_3ae2256e_f5bc_11ed_b57e_44af2820dc43row1_col1,#T_3ae2256e_f5bc_11ed_b57e_44af2820dc43row1_col2,#T_3ae2256e_f5bc_11ed_b57e_44af2820dc43row2_col0,#T_3ae2256e_f5bc_11ed_b57e_44af2820dc43row2_col1,#T_3ae2256e_f5bc_11ed_b57e_44af2820dc43row2_col2,#T_3ae2256e_f5bc_11ed_b57e_44af2820dc43row3_col0,#T_3ae2256e_f5bc_11ed_b57e_44af2820dc43row3_col1,#T_3ae2256e_f5bc_11ed_b57e_44af2820dc43row3_col2,#T_3ae2256e_f5bc_11ed_b57e_44af2820dc43row4_col0,#T_3ae2256e_f5bc_11ed_b57e_44af2820dc43row4_col1,#T_3ae2256e_f5bc_11ed_b57e_44af2820dc43row4_col2,#T_3ae2256e_f5bc_11ed_b57e_44af2820dc43row5_col0,#T_3ae2256e_f5bc_11ed_b57e_44af2820dc43row5_col1,#T_3ae2256e_f5bc_11ed_b57e_44af2820dc43row5_col2,#T_3ae2256e_f5bc_11ed_b57e_44af2820dc43row6_col0,#T_3ae2256e_f5bc_11ed_b57e_44af2820dc43row6_col1,#T_3ae2256e_f5bc_11ed_b57e_44af2820dc43row6_col2,#T_3ae2256e_f5bc_11ed_b57e_44af2820dc43row7_col0,#T_3ae2256e_f5bc_11ed_b57e_44af2820dc43row7_col1,#T_3ae2256e_f5bc_11ed_b57e_44af2820dc43row7_col2,#T_3ae2256e_f5bc_11ed_b57e_44af2820dc43row8_col0,#T_3ae2256e_f5bc_11ed_b57e_44af2820dc43row8_col1,#T_3ae2256e_f5bc_11ed_b57e_44af2820dc43row8_col2,#T_3ae2256e_f5bc_11ed_b57e_44af2820dc43row9_col0,#T_3ae2256e_f5bc_11ed_b57e_44af2820dc43row9_col1,#T_3ae2256e_f5bc_11ed_b57e_44af2820dc43row9_col2{\n",
       "            background-color:  LavenderBlush;\n",
       "        }#T_3ae2256e_f5bc_11ed_b57e_44af2820dc43row0_col3,#T_3ae2256e_f5bc_11ed_b57e_44af2820dc43row0_col4,#T_3ae2256e_f5bc_11ed_b57e_44af2820dc43row0_col5,#T_3ae2256e_f5bc_11ed_b57e_44af2820dc43row0_col6,#T_3ae2256e_f5bc_11ed_b57e_44af2820dc43row0_col7,#T_3ae2256e_f5bc_11ed_b57e_44af2820dc43row1_col3,#T_3ae2256e_f5bc_11ed_b57e_44af2820dc43row1_col4,#T_3ae2256e_f5bc_11ed_b57e_44af2820dc43row1_col5,#T_3ae2256e_f5bc_11ed_b57e_44af2820dc43row1_col6,#T_3ae2256e_f5bc_11ed_b57e_44af2820dc43row1_col7,#T_3ae2256e_f5bc_11ed_b57e_44af2820dc43row2_col3,#T_3ae2256e_f5bc_11ed_b57e_44af2820dc43row2_col4,#T_3ae2256e_f5bc_11ed_b57e_44af2820dc43row2_col5,#T_3ae2256e_f5bc_11ed_b57e_44af2820dc43row2_col6,#T_3ae2256e_f5bc_11ed_b57e_44af2820dc43row2_col7,#T_3ae2256e_f5bc_11ed_b57e_44af2820dc43row3_col3,#T_3ae2256e_f5bc_11ed_b57e_44af2820dc43row3_col4,#T_3ae2256e_f5bc_11ed_b57e_44af2820dc43row3_col5,#T_3ae2256e_f5bc_11ed_b57e_44af2820dc43row3_col6,#T_3ae2256e_f5bc_11ed_b57e_44af2820dc43row3_col7,#T_3ae2256e_f5bc_11ed_b57e_44af2820dc43row4_col3,#T_3ae2256e_f5bc_11ed_b57e_44af2820dc43row4_col4,#T_3ae2256e_f5bc_11ed_b57e_44af2820dc43row4_col5,#T_3ae2256e_f5bc_11ed_b57e_44af2820dc43row4_col6,#T_3ae2256e_f5bc_11ed_b57e_44af2820dc43row4_col7,#T_3ae2256e_f5bc_11ed_b57e_44af2820dc43row5_col3,#T_3ae2256e_f5bc_11ed_b57e_44af2820dc43row5_col4,#T_3ae2256e_f5bc_11ed_b57e_44af2820dc43row5_col5,#T_3ae2256e_f5bc_11ed_b57e_44af2820dc43row5_col6,#T_3ae2256e_f5bc_11ed_b57e_44af2820dc43row5_col7,#T_3ae2256e_f5bc_11ed_b57e_44af2820dc43row6_col3,#T_3ae2256e_f5bc_11ed_b57e_44af2820dc43row6_col4,#T_3ae2256e_f5bc_11ed_b57e_44af2820dc43row6_col5,#T_3ae2256e_f5bc_11ed_b57e_44af2820dc43row6_col6,#T_3ae2256e_f5bc_11ed_b57e_44af2820dc43row6_col7,#T_3ae2256e_f5bc_11ed_b57e_44af2820dc43row7_col3,#T_3ae2256e_f5bc_11ed_b57e_44af2820dc43row7_col4,#T_3ae2256e_f5bc_11ed_b57e_44af2820dc43row7_col5,#T_3ae2256e_f5bc_11ed_b57e_44af2820dc43row7_col6,#T_3ae2256e_f5bc_11ed_b57e_44af2820dc43row7_col7,#T_3ae2256e_f5bc_11ed_b57e_44af2820dc43row8_col3,#T_3ae2256e_f5bc_11ed_b57e_44af2820dc43row8_col4,#T_3ae2256e_f5bc_11ed_b57e_44af2820dc43row8_col5,#T_3ae2256e_f5bc_11ed_b57e_44af2820dc43row8_col6,#T_3ae2256e_f5bc_11ed_b57e_44af2820dc43row8_col7,#T_3ae2256e_f5bc_11ed_b57e_44af2820dc43row9_col3,#T_3ae2256e_f5bc_11ed_b57e_44af2820dc43row9_col4,#T_3ae2256e_f5bc_11ed_b57e_44af2820dc43row9_col5,#T_3ae2256e_f5bc_11ed_b57e_44af2820dc43row9_col6,#T_3ae2256e_f5bc_11ed_b57e_44af2820dc43row9_col7{\n",
       "            background-color:  Lavender;\n",
       "        }</style><table id=\"T_3ae2256e_f5bc_11ed_b57e_44af2820dc43\" ><thead>    <tr>        <th class=\"blank level0\" ></th>        <th class=\"col_heading level0 col0\" colspan=3>Targets</th>        <th class=\"col_heading level0 col3\" colspan=5>Features</th>    </tr>    <tr>        <th class=\"blank level1\" ></th>        <th class=\"col_heading level1 col0\" >y_step_3</th>        <th class=\"col_heading level1 col1\" >y_step_2</th>        <th class=\"col_heading level1 col2\" >y_step_1</th>        <th class=\"col_heading level1 col3\" >y_lag_2</th>        <th class=\"col_heading level1 col4\" >y_lag_3</th>        <th class=\"col_heading level1 col5\" >y_lag_4</th>        <th class=\"col_heading level1 col6\" >y_lag_5</th>        <th class=\"col_heading level1 col7\" >y_lag_6</th>    </tr>    <tr>        <th class=\"index_name level0\" >Year</th>        <th class=\"blank\" ></th>        <th class=\"blank\" ></th>        <th class=\"blank\" ></th>        <th class=\"blank\" ></th>        <th class=\"blank\" ></th>        <th class=\"blank\" ></th>        <th class=\"blank\" ></th>        <th class=\"blank\" ></th>    </tr></thead><tbody>\n",
       "                <tr>\n",
       "                        <th id=\"T_3ae2256e_f5bc_11ed_b57e_44af2820dc43level0_row0\" class=\"row_heading level0 row0\" >2010</th>\n",
       "                        <td id=\"T_3ae2256e_f5bc_11ed_b57e_44af2820dc43row0_col0\" class=\"data row0 col0\" >2</td>\n",
       "                        <td id=\"T_3ae2256e_f5bc_11ed_b57e_44af2820dc43row0_col1\" class=\"data row0 col1\" >1</td>\n",
       "                        <td id=\"T_3ae2256e_f5bc_11ed_b57e_44af2820dc43row0_col2\" class=\"data row0 col2\" >0</td>\n",
       "                        <td id=\"T_3ae2256e_f5bc_11ed_b57e_44af2820dc43row0_col3\" class=\"data row0 col3\" >nan</td>\n",
       "                        <td id=\"T_3ae2256e_f5bc_11ed_b57e_44af2820dc43row0_col4\" class=\"data row0 col4\" >nan</td>\n",
       "                        <td id=\"T_3ae2256e_f5bc_11ed_b57e_44af2820dc43row0_col5\" class=\"data row0 col5\" >nan</td>\n",
       "                        <td id=\"T_3ae2256e_f5bc_11ed_b57e_44af2820dc43row0_col6\" class=\"data row0 col6\" >nan</td>\n",
       "                        <td id=\"T_3ae2256e_f5bc_11ed_b57e_44af2820dc43row0_col7\" class=\"data row0 col7\" >nan</td>\n",
       "            </tr>\n",
       "            <tr>\n",
       "                        <th id=\"T_3ae2256e_f5bc_11ed_b57e_44af2820dc43level0_row1\" class=\"row_heading level0 row1\" >2011</th>\n",
       "                        <td id=\"T_3ae2256e_f5bc_11ed_b57e_44af2820dc43row1_col0\" class=\"data row1 col0\" >3</td>\n",
       "                        <td id=\"T_3ae2256e_f5bc_11ed_b57e_44af2820dc43row1_col1\" class=\"data row1 col1\" >2</td>\n",
       "                        <td id=\"T_3ae2256e_f5bc_11ed_b57e_44af2820dc43row1_col2\" class=\"data row1 col2\" >1</td>\n",
       "                        <td id=\"T_3ae2256e_f5bc_11ed_b57e_44af2820dc43row1_col3\" class=\"data row1 col3\" >nan</td>\n",
       "                        <td id=\"T_3ae2256e_f5bc_11ed_b57e_44af2820dc43row1_col4\" class=\"data row1 col4\" >nan</td>\n",
       "                        <td id=\"T_3ae2256e_f5bc_11ed_b57e_44af2820dc43row1_col5\" class=\"data row1 col5\" >nan</td>\n",
       "                        <td id=\"T_3ae2256e_f5bc_11ed_b57e_44af2820dc43row1_col6\" class=\"data row1 col6\" >nan</td>\n",
       "                        <td id=\"T_3ae2256e_f5bc_11ed_b57e_44af2820dc43row1_col7\" class=\"data row1 col7\" >nan</td>\n",
       "            </tr>\n",
       "            <tr>\n",
       "                        <th id=\"T_3ae2256e_f5bc_11ed_b57e_44af2820dc43level0_row2\" class=\"row_heading level0 row2\" >2012</th>\n",
       "                        <td id=\"T_3ae2256e_f5bc_11ed_b57e_44af2820dc43row2_col0\" class=\"data row2 col0\" >4</td>\n",
       "                        <td id=\"T_3ae2256e_f5bc_11ed_b57e_44af2820dc43row2_col1\" class=\"data row2 col1\" >3</td>\n",
       "                        <td id=\"T_3ae2256e_f5bc_11ed_b57e_44af2820dc43row2_col2\" class=\"data row2 col2\" >2</td>\n",
       "                        <td id=\"T_3ae2256e_f5bc_11ed_b57e_44af2820dc43row2_col3\" class=\"data row2 col3\" >0</td>\n",
       "                        <td id=\"T_3ae2256e_f5bc_11ed_b57e_44af2820dc43row2_col4\" class=\"data row2 col4\" >nan</td>\n",
       "                        <td id=\"T_3ae2256e_f5bc_11ed_b57e_44af2820dc43row2_col5\" class=\"data row2 col5\" >nan</td>\n",
       "                        <td id=\"T_3ae2256e_f5bc_11ed_b57e_44af2820dc43row2_col6\" class=\"data row2 col6\" >nan</td>\n",
       "                        <td id=\"T_3ae2256e_f5bc_11ed_b57e_44af2820dc43row2_col7\" class=\"data row2 col7\" >nan</td>\n",
       "            </tr>\n",
       "            <tr>\n",
       "                        <th id=\"T_3ae2256e_f5bc_11ed_b57e_44af2820dc43level0_row3\" class=\"row_heading level0 row3\" >2013</th>\n",
       "                        <td id=\"T_3ae2256e_f5bc_11ed_b57e_44af2820dc43row3_col0\" class=\"data row3 col0\" >5</td>\n",
       "                        <td id=\"T_3ae2256e_f5bc_11ed_b57e_44af2820dc43row3_col1\" class=\"data row3 col1\" >4</td>\n",
       "                        <td id=\"T_3ae2256e_f5bc_11ed_b57e_44af2820dc43row3_col2\" class=\"data row3 col2\" >3</td>\n",
       "                        <td id=\"T_3ae2256e_f5bc_11ed_b57e_44af2820dc43row3_col3\" class=\"data row3 col3\" >1</td>\n",
       "                        <td id=\"T_3ae2256e_f5bc_11ed_b57e_44af2820dc43row3_col4\" class=\"data row3 col4\" >0</td>\n",
       "                        <td id=\"T_3ae2256e_f5bc_11ed_b57e_44af2820dc43row3_col5\" class=\"data row3 col5\" >nan</td>\n",
       "                        <td id=\"T_3ae2256e_f5bc_11ed_b57e_44af2820dc43row3_col6\" class=\"data row3 col6\" >nan</td>\n",
       "                        <td id=\"T_3ae2256e_f5bc_11ed_b57e_44af2820dc43row3_col7\" class=\"data row3 col7\" >nan</td>\n",
       "            </tr>\n",
       "            <tr>\n",
       "                        <th id=\"T_3ae2256e_f5bc_11ed_b57e_44af2820dc43level0_row4\" class=\"row_heading level0 row4\" >2014</th>\n",
       "                        <td id=\"T_3ae2256e_f5bc_11ed_b57e_44af2820dc43row4_col0\" class=\"data row4 col0\" >6</td>\n",
       "                        <td id=\"T_3ae2256e_f5bc_11ed_b57e_44af2820dc43row4_col1\" class=\"data row4 col1\" >5</td>\n",
       "                        <td id=\"T_3ae2256e_f5bc_11ed_b57e_44af2820dc43row4_col2\" class=\"data row4 col2\" >4</td>\n",
       "                        <td id=\"T_3ae2256e_f5bc_11ed_b57e_44af2820dc43row4_col3\" class=\"data row4 col3\" >2</td>\n",
       "                        <td id=\"T_3ae2256e_f5bc_11ed_b57e_44af2820dc43row4_col4\" class=\"data row4 col4\" >1</td>\n",
       "                        <td id=\"T_3ae2256e_f5bc_11ed_b57e_44af2820dc43row4_col5\" class=\"data row4 col5\" >0</td>\n",
       "                        <td id=\"T_3ae2256e_f5bc_11ed_b57e_44af2820dc43row4_col6\" class=\"data row4 col6\" >nan</td>\n",
       "                        <td id=\"T_3ae2256e_f5bc_11ed_b57e_44af2820dc43row4_col7\" class=\"data row4 col7\" >nan</td>\n",
       "            </tr>\n",
       "            <tr>\n",
       "                        <th id=\"T_3ae2256e_f5bc_11ed_b57e_44af2820dc43level0_row5\" class=\"row_heading level0 row5\" >2015</th>\n",
       "                        <td id=\"T_3ae2256e_f5bc_11ed_b57e_44af2820dc43row5_col0\" class=\"data row5 col0\" >7</td>\n",
       "                        <td id=\"T_3ae2256e_f5bc_11ed_b57e_44af2820dc43row5_col1\" class=\"data row5 col1\" >6</td>\n",
       "                        <td id=\"T_3ae2256e_f5bc_11ed_b57e_44af2820dc43row5_col2\" class=\"data row5 col2\" >5</td>\n",
       "                        <td id=\"T_3ae2256e_f5bc_11ed_b57e_44af2820dc43row5_col3\" class=\"data row5 col3\" >3</td>\n",
       "                        <td id=\"T_3ae2256e_f5bc_11ed_b57e_44af2820dc43row5_col4\" class=\"data row5 col4\" >2</td>\n",
       "                        <td id=\"T_3ae2256e_f5bc_11ed_b57e_44af2820dc43row5_col5\" class=\"data row5 col5\" >1</td>\n",
       "                        <td id=\"T_3ae2256e_f5bc_11ed_b57e_44af2820dc43row5_col6\" class=\"data row5 col6\" >0</td>\n",
       "                        <td id=\"T_3ae2256e_f5bc_11ed_b57e_44af2820dc43row5_col7\" class=\"data row5 col7\" >nan</td>\n",
       "            </tr>\n",
       "            <tr>\n",
       "                        <th id=\"T_3ae2256e_f5bc_11ed_b57e_44af2820dc43level0_row6\" class=\"row_heading level0 row6\" >2016</th>\n",
       "                        <td id=\"T_3ae2256e_f5bc_11ed_b57e_44af2820dc43row6_col0\" class=\"data row6 col0\" >8</td>\n",
       "                        <td id=\"T_3ae2256e_f5bc_11ed_b57e_44af2820dc43row6_col1\" class=\"data row6 col1\" >7</td>\n",
       "                        <td id=\"T_3ae2256e_f5bc_11ed_b57e_44af2820dc43row6_col2\" class=\"data row6 col2\" >6</td>\n",
       "                        <td id=\"T_3ae2256e_f5bc_11ed_b57e_44af2820dc43row6_col3\" class=\"data row6 col3\" >4</td>\n",
       "                        <td id=\"T_3ae2256e_f5bc_11ed_b57e_44af2820dc43row6_col4\" class=\"data row6 col4\" >3</td>\n",
       "                        <td id=\"T_3ae2256e_f5bc_11ed_b57e_44af2820dc43row6_col5\" class=\"data row6 col5\" >2</td>\n",
       "                        <td id=\"T_3ae2256e_f5bc_11ed_b57e_44af2820dc43row6_col6\" class=\"data row6 col6\" >1</td>\n",
       "                        <td id=\"T_3ae2256e_f5bc_11ed_b57e_44af2820dc43row6_col7\" class=\"data row6 col7\" >0</td>\n",
       "            </tr>\n",
       "            <tr>\n",
       "                        <th id=\"T_3ae2256e_f5bc_11ed_b57e_44af2820dc43level0_row7\" class=\"row_heading level0 row7\" >2017</th>\n",
       "                        <td id=\"T_3ae2256e_f5bc_11ed_b57e_44af2820dc43row7_col0\" class=\"data row7 col0\" >9</td>\n",
       "                        <td id=\"T_3ae2256e_f5bc_11ed_b57e_44af2820dc43row7_col1\" class=\"data row7 col1\" >8</td>\n",
       "                        <td id=\"T_3ae2256e_f5bc_11ed_b57e_44af2820dc43row7_col2\" class=\"data row7 col2\" >7</td>\n",
       "                        <td id=\"T_3ae2256e_f5bc_11ed_b57e_44af2820dc43row7_col3\" class=\"data row7 col3\" >5</td>\n",
       "                        <td id=\"T_3ae2256e_f5bc_11ed_b57e_44af2820dc43row7_col4\" class=\"data row7 col4\" >4</td>\n",
       "                        <td id=\"T_3ae2256e_f5bc_11ed_b57e_44af2820dc43row7_col5\" class=\"data row7 col5\" >3</td>\n",
       "                        <td id=\"T_3ae2256e_f5bc_11ed_b57e_44af2820dc43row7_col6\" class=\"data row7 col6\" >2</td>\n",
       "                        <td id=\"T_3ae2256e_f5bc_11ed_b57e_44af2820dc43row7_col7\" class=\"data row7 col7\" >1</td>\n",
       "            </tr>\n",
       "            <tr>\n",
       "                        <th id=\"T_3ae2256e_f5bc_11ed_b57e_44af2820dc43level0_row8\" class=\"row_heading level0 row8\" >2018</th>\n",
       "                        <td id=\"T_3ae2256e_f5bc_11ed_b57e_44af2820dc43row8_col0\" class=\"data row8 col0\" >10</td>\n",
       "                        <td id=\"T_3ae2256e_f5bc_11ed_b57e_44af2820dc43row8_col1\" class=\"data row8 col1\" >9</td>\n",
       "                        <td id=\"T_3ae2256e_f5bc_11ed_b57e_44af2820dc43row8_col2\" class=\"data row8 col2\" >8</td>\n",
       "                        <td id=\"T_3ae2256e_f5bc_11ed_b57e_44af2820dc43row8_col3\" class=\"data row8 col3\" >6</td>\n",
       "                        <td id=\"T_3ae2256e_f5bc_11ed_b57e_44af2820dc43row8_col4\" class=\"data row8 col4\" >5</td>\n",
       "                        <td id=\"T_3ae2256e_f5bc_11ed_b57e_44af2820dc43row8_col5\" class=\"data row8 col5\" >4</td>\n",
       "                        <td id=\"T_3ae2256e_f5bc_11ed_b57e_44af2820dc43row8_col6\" class=\"data row8 col6\" >3</td>\n",
       "                        <td id=\"T_3ae2256e_f5bc_11ed_b57e_44af2820dc43row8_col7\" class=\"data row8 col7\" >2</td>\n",
       "            </tr>\n",
       "            <tr>\n",
       "                        <th id=\"T_3ae2256e_f5bc_11ed_b57e_44af2820dc43level0_row9\" class=\"row_heading level0 row9\" >2019</th>\n",
       "                        <td id=\"T_3ae2256e_f5bc_11ed_b57e_44af2820dc43row9_col0\" class=\"data row9 col0\" >11</td>\n",
       "                        <td id=\"T_3ae2256e_f5bc_11ed_b57e_44af2820dc43row9_col1\" class=\"data row9 col1\" >10</td>\n",
       "                        <td id=\"T_3ae2256e_f5bc_11ed_b57e_44af2820dc43row9_col2\" class=\"data row9 col2\" >9</td>\n",
       "                        <td id=\"T_3ae2256e_f5bc_11ed_b57e_44af2820dc43row9_col3\" class=\"data row9 col3\" >7</td>\n",
       "                        <td id=\"T_3ae2256e_f5bc_11ed_b57e_44af2820dc43row9_col4\" class=\"data row9 col4\" >6</td>\n",
       "                        <td id=\"T_3ae2256e_f5bc_11ed_b57e_44af2820dc43row9_col5\" class=\"data row9 col5\" >5</td>\n",
       "                        <td id=\"T_3ae2256e_f5bc_11ed_b57e_44af2820dc43row9_col6\" class=\"data row9 col6\" >4</td>\n",
       "                        <td id=\"T_3ae2256e_f5bc_11ed_b57e_44af2820dc43row9_col7\" class=\"data row9 col7\" >3</td>\n",
       "            </tr>\n",
       "    </tbody></table>"
      ],
      "text/plain": [
       "<pandas.io.formats.style.Styler at 0x29f60d26f70>"
      ]
     },
     "execution_count": 1,
     "metadata": {},
     "output_type": "execute_result"
    }
   ],
   "source": [
    "import numpy as np\n",
    "import pandas as pd\n",
    "\n",
    "N = 20\n",
    "ts = pd.Series(\n",
    "    np.arange(N),\n",
    "    index=pd.period_range(start='2010', freq='A', periods=N, name='Year'),\n",
    "    dtype=pd.Int8Dtype,\n",
    ")\n",
    "\n",
    "# Lag features\n",
    "X = pd.DataFrame({\n",
    "    'y_lag_2': ts.shift(2),\n",
    "    'y_lag_3': ts.shift(3),\n",
    "    'y_lag_4': ts.shift(4),\n",
    "    'y_lag_5': ts.shift(5),\n",
    "    'y_lag_6': ts.shift(6),    \n",
    "})\n",
    "\n",
    "# Multistep targets\n",
    "y = pd.DataFrame({\n",
    "    'y_step_3': ts.shift(-2),\n",
    "    'y_step_2': ts.shift(-1),\n",
    "    'y_step_1': ts,\n",
    "})\n",
    "\n",
    "data = pd.concat({'Targets': y, 'Features': X}, axis=1)\n",
    "\n",
    "data.head(10).style.set_properties(['Targets'], **{'background-color': 'LavenderBlush'}) \\\n",
    "                   .set_properties(['Features'], **{'background-color': 'Lavender'})"
   ]
  },
  {
   "cell_type": "markdown",
   "metadata": {},
   "source": [
    "The above illustrates how a dataset would be prepared similar to the **Defining a Forecast** figure: a three-step forecasting task with a two-step lead time using five lag features. The original time series is y_step_1. The missing values we could either fill-in or drop.\n",
    "\n",
    "### 4. Multistep Forecasting Strategies\n",
    "\n",
    "There are a number of strategies for producing the multiple target steps required for a forecast. We'll outline **four** common strategies, each with strengths and weaknesses.\n",
    "\n",
    "#### (1). Multioutput model\n",
    "Use a model that produces multiple outputs naturally. `Linear regression` and `neural networks` can both produce multiple outputs. This strategy is simple and efficient, but not possible for every algorithm you might want to use. `XGBoost` can't do this, for instance.\n",
    "\n",
    "#### (2). Direct strategy\n",
    "Train a separate model for each step in the horizon: one model forecasts 1-step ahead, another 2-steps ahead, and so on. Forecasting 1-step ahead is a different problem than 2-steps ahead (and so on), so it can help to have a different model make forecasts for each step. The downside is that training lots of models can be computationally expensive.\n",
    "\n",
    "#### (3). Recursive strategy\n",
    "Train a single one-step model and use its forecasts to update the lag features for the next step. With the recursive method, we feed a model's 1-step forecast back in to that same model to use as a lag feature for the next forecasting step. We only need to train one model, but since **errors will propagate from step to step**, forecasts can be inaccurate for long horizons.\n",
    "\n",
    "#### (4). DirRec strategy\n",
    "A combination of the direct and recursive strategies: train a model for each step and use forecasts from previous steps as new lag features. Step by step, each model gets an additional lag input. Since each model always has an up-to-date set of lag features, the DirRec strategy can capture **serial dependence** better than Direct, but it can also suffer from error propagation like Recursive."
   ]
  },
  {
   "cell_type": "code",
   "execution_count": null,
   "metadata": {},
   "outputs": [],
   "source": []
  }
 ],
 "metadata": {
  "kernelspec": {
   "display_name": "Python 3",
   "language": "python",
   "name": "python3"
  },
  "language_info": {
   "codemirror_mode": {
    "name": "ipython",
    "version": 3
   },
   "file_extension": ".py",
   "mimetype": "text/x-python",
   "name": "python",
   "nbconvert_exporter": "python",
   "pygments_lexer": "ipython3",
   "version": "3.8.5"
  }
 },
 "nbformat": 4,
 "nbformat_minor": 4
}
